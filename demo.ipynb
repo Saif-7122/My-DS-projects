{
  "nbformat": 4,
  "nbformat_minor": 0,
  "metadata": {
    "colab": {
      "provenance": [],
      "gpuType": "T4"
    },
    "kernelspec": {
      "name": "python3",
      "display_name": "Python 3"
    },
    "language_info": {
      "name": "python"
    },
    "accelerator": "GPU"
  },
  "cells": [
    {
      "cell_type": "code",
      "execution_count": 1,
      "metadata": {
        "colab": {
          "base_uri": "https://localhost:8080/"
        },
        "id": "oKpGRNKF1mNi",
        "outputId": "2c0c17fb-54d6-404b-c101-b9e6f3530460"
      },
      "outputs": [
        {
          "output_type": "stream",
          "name": "stdout",
          "text": [
            "Enter your height in cm: 123\n",
            "Enter your weight in kg: 45\n",
            "Enter your shoe size in cm: 29\n",
            "You are a  female\n"
          ]
        }
      ],
      "source": [
        "from sklearn import tree\n",
        "\n",
        "clf = tree.DecisionTreeClassifier()\n",
        "# [height, weight, shoe_size]\n",
        "X = [[181, 80, 44], [177, 70, 43], [160, 60, 38], [154, 54, 37], [166, 65, 40],\n",
        "     [190, 90, 47], [175, 64, 39],\n",
        "     [177, 70, 40], [159, 55, 37], [171, 75, 42], [181, 85, 43]]\n",
        "\n",
        "Y = ['male', 'male', 'female', 'female', 'male', 'male', 'female', 'female',\n",
        "     'female', 'male', 'male']\n",
        "\n",
        "\n",
        "clf = clf.fit(X, Y)\n",
        "h = int(input('Enter your height in cm: '))\n",
        "w = int(input('Enter your weight in kg: '))\n",
        "s = int(input('Enter your shoe size in cm: '))\n",
        "prediction = clf.predict([[h, w, s]])\n",
        "\n",
        "\n",
        "\n",
        "print('You are a ',prediction[0])\n"
      ]
    }
  ]
}